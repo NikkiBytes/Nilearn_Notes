{
 "cells": [
  {
   "cell_type": "markdown",
   "metadata": {},
   "source": [
    "# Decoding with SpaceNet  \n",
    "https://nilearn.github.io/modules/generated/nilearn.decoding.SpaceNetClassifier.html#nilearn.decoding.SpaceNetClassifier"
   ]
  },
  {
   "cell_type": "code",
   "execution_count": null,
   "metadata": {},
   "outputs": [],
   "source": [
    "import numpy as np\n",
    "import pandas as pd\n",
    "import os\n",
    "import numpy as np\n",
    "import nilearn\n",
    "import glob\n",
    "from nilearn.image import index_img\n",
    "#from nilearn.datasets import load_mni152_brain_mask\n"
   ]
  },
  {
   "cell_type": "markdown",
   "metadata": {},
   "source": [
    "### Load the Chocolate data \n",
    "#### Paradigm: h2O, unapp, app\n",
    "- Starting with W1 (133 Subjects)"
   ]
  },
  {
   "cell_type": "code",
   "execution_count": null,
   "metadata": {},
   "outputs": [],
   "source": [
    "#mask_img = load_mni152_brain_mask()\n",
    "mask_img=\"/projects/niblab/nilearn_projects/power_roimask_4bi.nii.gz\"\n",
    "stim = os.path.join('/projects','niblab','scripts','nilean_stuff','label_all_sub.csv')\n",
    "behavioral = pd.read_csv(stim, sep=\",\")\n",
    "conditions =  behavioral['label']\n",
    "condition_mask = conditions.isin(['unapp', 'app', 'H2O'])\n",
    "\n",
    "\n",
    "# Split data into train and test samples, using the chunks\n",
    "condition_mask_train = (condition_mask) & (behavioral['sub'] == 0)\n",
    "condition_mask_test = (condition_mask) & (behavioral['sub']  == 1)\n",
    "\n",
    "\n",
    "# Apply this sample mask to X (fMRI data) and y (behavioral labels)\n",
    "# Because the data is in one single large 4D image, we need to use\n",
    "# index_img to do the split easily\n",
    "func_filenames='/projects/niblab/bids_projects/Experiments/ChocoData/derivatives/higher_level_ana/w1_imagine_all.nii.gz'\n",
    "X_train = index_img(func_filenames, condition_mask_train)\n",
    "X_test = index_img(func_filenames, condition_mask_test)\n",
    "y_train = conditions[condition_mask_train]\n",
    "y_test = conditions[condition_mask_test]\n",
    "\n",
    "# Compute the mean epi to be used for the background of the plotting\n",
    "from nilearn.image import mean_img\n",
    "background_img = mean_img(func_filenames)"
   ]
  },
  {
   "cell_type": "markdown",
   "metadata": {},
   "source": [
    "### Fit SpaceNet with a Graph-Net penalty\n",
    "SpaceNetClassifier \n",
    "    - adding mask\n",
    "    - need to look at alphas and cv"
   ]
  },
  {
   "cell_type": "code",
   "execution_count": null,
   "metadata": {},
   "outputs": [],
   "source": [
    "from nilearn.decoding import SpaceNetClassifier\n",
    "# Fit model on train data and predict on test data\n",
    "decoder = SpaceNetClassifier(memory_level=2, n_jobs=4,\n",
    "                             mask=mask_img, standardize=True,\n",
    "                             memory=\"nilearn_cache\", penalty='graph-net')\n",
    "decoder.fit(X_train, y_train)\n",
    "y_pred = decoder.predict(X_test)\n",
    "accuracy = (y_pred == y_test).mean() * 100.\n",
    "print(\"Graph-net classification accuracy : %g%%\" % accuracy)"
   ]
  },
  {
   "cell_type": "markdown",
   "metadata": {},
   "source": [
    "    [NiftiMasker.fit] Loading data from None\n",
    "    [NiftiMasker.fit] Resampling mask\n",
    "    [Parallel(n_jobs=4)]: Done  24 out of  24 | elapsed:   36.3s finished\n",
    "    Time Elapsed: 53.6853 seconds, 0 minutes.\n",
    "    Graph-net classification accuracy : 35.5416%"
   ]
  },
  {
   "cell_type": "code",
   "execution_count": null,
   "metadata": {},
   "outputs": [],
   "source": [
    "from nilearn.plotting import plot_stat_map\n",
    "coef_img = decoder.coef_img_\n",
    "img = plot_stat_map(coef_img, background_img,\n",
    "              title=\"graph-net: accuracy %g%%\" % accuracy)\n",
    "#coef_img.to_filename('choco_graph-net_weights.nii')\n",
    "img.savefig(\"choco_imagine_graph-net.png\")"
   ]
  },
  {
   "cell_type": "markdown",
   "metadata": {},
   "source": [
    "### Now Fit SpaceNet with a TV-l1 penalty"
   ]
  },
  {
   "cell_type": "code",
   "execution_count": null,
   "metadata": {},
   "outputs": [],
   "source": [
    "decoder = SpaceNetClassifier(memory_level=2, n_jobs=4,\n",
    "                             mask=mask_img, standardize=True,\n",
    "                             memory=\"nilearn_cache\", penalty='tv-l1')\n",
    "decoder.fit(X_train, y_train)\n",
    "y_pred = decoder.predict(X_test)\n",
    "accuracy = (y_pred == y_test).mean() * 100.\n",
    "print(\"TV-l1 classification accuracy : %g%%\" % accuracy)"
   ]
  },
  {
   "cell_type": "markdown",
   "metadata": {},
   "source": [
    "    [NiftiMasker.fit] Loading data from None  \n",
    "    [NiftiMasker.fit] Resampling mask  \n",
    "    [Parallel(n_jobs=4)]: Done  24 out of  24 | elapsed:   34.7s finished  \n",
    "    Time Elapsed: 52.2088 seconds, 0 minutes.  \n",
    "    TV-l1 classification accuracy : 35.2977%"
   ]
  },
  {
   "cell_type": "markdown",
   "metadata": {},
   "source": [
    "## PARADIGM: app, h2O\n",
    "\n",
    "- W1 (133 subjects) "
   ]
  },
  {
   "cell_type": "code",
   "execution_count": null,
   "metadata": {},
   "outputs": [],
   "source": [
    "#mask_img = load_mni152_brain_mask()\n",
    "mask_img=\"/projects/niblab/nilearn_projects/power_roimask_4bi.nii.gz\"\n",
    "stim = os.path.join('/projects','niblab','scripts','nilean_stuff','label_all_sub.csv')\n",
    "behavioral = pd.read_csv(stim, sep=\",\")\n",
    "conditions =  behavioral['label']\n",
    "condition_mask = conditions.isin(['app', 'H2O'])\n",
    "\n",
    "\n",
    "# Split data into train and test samples, using the chunks\n",
    "condition_mask_train = (condition_mask) & (behavioral['sub'] == 0)\n",
    "condition_mask_test = (condition_mask) & (behavioral['sub']  == 1)\n",
    "\n",
    "\n",
    "# Apply this sample mask to X (fMRI data) and y (behavioral labels)\n",
    "# Because the data is in one single large 4D image, we need to use\n",
    "# index_img to do the split easily\n",
    "func_filenames='/projects/niblab/bids_projects/Experiments/ChocoData/derivatives/group_ana/w1_imagine_all.nii.gz'\n",
    "X_train = index_img(func_filenames, condition_mask_train)\n",
    "X_test = index_img(func_filenames, condition_mask_test)\n",
    "y_train = conditions[condition_mask_train]\n",
    "y_test = conditions[condition_mask_test]\n",
    "\n",
    "# Compute the mean epi to be used for the background of the plotting\n",
    "from nilearn.image import mean_img\n",
    "background_img = mean_img(func_filenames)"
   ]
  },
  {
   "cell_type": "code",
   "execution_count": null,
   "metadata": {},
   "outputs": [],
   "source": [
    "from nilearn.decoding import SpaceNetClassifier\n",
    "# Fit model on train data and predict on test data\n",
    "decoder = SpaceNetClassifier(memory_level=2, n_jobs=4,\n",
    "                             mask=mask_img, standardize=True,\n",
    "                             memory=\"nilearn_cache\", penalty='graph-net')\n",
    "decoder.fit(X_train, y_train)\n",
    "y_pred = decoder.predict(X_test)\n",
    "accuracy = (y_pred == y_test).mean() * 100.\n",
    "print(\"Graph-net classification accuracy : %g%%\" % accuracy)"
   ]
  },
  {
   "cell_type": "markdown",
   "metadata": {},
   "source": [
    "    [NiftiMasker.transform_single_imgs] Resampling images\n",
    "    [NiftiMasker.transform_single_imgs] Extracting region signals\n",
    "    [NiftiMasker.transform_single_imgs] Cleaning extracted signals\n",
    "    Graph-net classification accuracy : 52.9925%"
   ]
  },
  {
   "cell_type": "code",
   "execution_count": null,
   "metadata": {},
   "outputs": [],
   "source": [
    "decoder = SpaceNetClassifier(memory_level=2, n_jobs=4,\n",
    "                             mask=mask_img, standardize=True,\n",
    "                             memory=\"nilearn_cache\", penalty='tv-l1')\n",
    "decoder.fit(X_train, y_train)\n",
    "y_pred = decoder.predict(X_test)\n",
    "accuracy = (y_pred == y_test).mean() * 100.\n",
    "print(\"TV-l1 classification accuracy : %g%%\" % accuracy)"
   ]
  },
  {
   "cell_type": "markdown",
   "metadata": {},
   "source": [
    "    [NiftiMasker.transform_single_imgs] Resampling images\n",
    "    [NiftiMasker.transform_single_imgs] Extracting region signals\n",
    "    [NiftiMasker.transform_single_imgs] Cleaning extracted signals\n",
    "    TV-l1 classification accuracy : 52.6617%\n",
    "   "
   ]
  }
 ],
 "metadata": {
  "kernelspec": {
   "display_name": "Python 3",
   "language": "python",
   "name": "python3"
  },
  "language_info": {
   "codemirror_mode": {
    "name": "ipython",
    "version": 3
   },
   "file_extension": ".py",
   "mimetype": "text/x-python",
   "name": "python",
   "nbconvert_exporter": "python",
   "pygments_lexer": "ipython3",
   "version": "3.6.5"
  }
 },
 "nbformat": 4,
 "nbformat_minor": 2
}
