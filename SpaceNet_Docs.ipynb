{
 "cells": [
  {
   "cell_type": "markdown",
   "metadata": {},
   "source": [
    "# SpaceNet: decoding with spatial structure for better maps"
   ]
  },
  {
   "cell_type": "markdown",
   "metadata": {},
   "source": [
    "SpaceNet implements spatial penalties which improve brain decoding power as well as decoder maps:  \n",
    "- penalty=”tvl1”: priors inspired from TV (Total Variation) [Michel et al. 2011], TV-L1 [Baldassarre et al. 2012], [Gramfort et al. 2013] (option: ),  \n",
    "- penalty=”graph-net”: GraphNet prior [Grosenick et al. 2013])\n",
    "  \n",
    "These regularize classification and regression problems in brain imaging. The results are brain maps which are both sparse (i.e regression coefficients are zero everywhere, except at predictive voxels) and structured(blobby). The superiority of TV-L1 over methods without structured priors like the Lasso, SVM, ANOVA, Ridge, etc. for yielding more interpretable maps and improved prediction scores is now well established.  \n",
    "  \n",
    "  \n",
    "**Note that TV-L1 prior leads to a difficult optimization problem and can be slow to run. To make things a bit faster a few heuristics are used, including:  \n",
    "- Feature preprocessing, where an F-test is used to eliminate non-predictive voxels, thus reducing the size of the brain mask in a principled way.  \n",
    "- Continuation is used along the regularization path, where the solution of the optimization problem for a given value of the regularization parameter alpha is used as initialization for the next regularization (smaller) value on the regularization grid."
   ]
  },
  {
   "cell_type": "markdown",
   "metadata": {},
   "source": [
    "### Reference\n",
    "I. http://nilearn.github.io/decoding/space_net.html"
   ]
  }
 ],
 "metadata": {
  "kernelspec": {
   "display_name": "Python 3",
   "language": "python",
   "name": "python3"
  },
  "language_info": {
   "codemirror_mode": {
    "name": "ipython",
    "version": 3
   },
   "file_extension": ".py",
   "mimetype": "text/x-python",
   "name": "python",
   "nbconvert_exporter": "python",
   "pygments_lexer": "ipython3",
   "version": "3.6.5"
  }
 },
 "nbformat": 4,
 "nbformat_minor": 2
}
