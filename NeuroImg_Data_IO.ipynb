{
 "cells": [
  {
   "cell_type": "markdown",
   "metadata": {},
   "source": [
    "# Neuroimaging Data: Understanding input and output  \n",
    "##### Neuroimaging images, *a.k.a niimgs*, come in these formats:  \n",
    "- 3D images, containing a single brain volume  \n",
    "- 4D images, containing multiple brain volumes.  \n",
    "\n",
    "##### Nilearn functions accept either 3D or 4D images:  \n",
    "- **`nilearn.image.index_img` || `nilearn.image.iter_img`** breaks down **4D** images into **3D** images.  \n",
    "- **`nilearn.image.concat_imgs`** groups a list of **3D** images into a **4D** image."
   ]
  },
  {
   "cell_type": "code",
   "execution_count": null,
   "metadata": {},
   "outputs": [],
   "source": []
  }
 ],
 "metadata": {
  "kernelspec": {
   "display_name": "Python 3",
   "language": "python",
   "name": "python3"
  },
  "language_info": {
   "codemirror_mode": {
    "name": "ipython",
    "version": 3
   },
   "file_extension": ".py",
   "mimetype": "text/x-python",
   "name": "python",
   "nbconvert_exporter": "python",
   "pygments_lexer": "ipython3",
   "version": "3.6.5"
  }
 },
 "nbformat": 4,
 "nbformat_minor": 2
}
