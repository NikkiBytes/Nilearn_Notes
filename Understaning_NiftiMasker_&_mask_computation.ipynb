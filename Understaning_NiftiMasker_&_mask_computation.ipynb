{
 "cells": [
  {
   "cell_type": "markdown",
   "metadata": {},
   "source": [
    "# Understanding NiftiMasker and mask computation\n",
    "\n",
    "In this example, we show how the Nifti masker is used to automatically compute a mask.  \n",
    "- The default strategy is based on the background.  \n",
    "- Or use a template.\n",
    "- For raw EPI, as in resting-state time series, we need to use the 'epi' strategy of the NiftiMasker.  \n",
    "\n",
    "The example also shows how to tweak different parameters of the underlying routine that extract masks from EPI `nilearn.masking.compute_epi_mask`\n"
   ]
  },
  {
   "cell_type": "code",
   "execution_count": 2,
   "metadata": {},
   "outputs": [],
   "source": [
    "from nilearn.input_data import NiftiMasker\n",
    "import nilearn.image as image\n",
    "from nilearn.plotting import plot_roi, plot_epi, show"
   ]
  },
  {
   "cell_type": "markdown",
   "metadata": {},
   "source": [
    "## Computing a mask from the background  \n",
    "The default strategy to compute a mask, eg in Niftimasker is to try to detect the background.  \n",
    "**With data that as already been masked, this will work well, as it lies on a homogeneous background.**"
   ]
  },
  {
   "cell_type": "code",
   "execution_count": null,
   "metadata": {},
   "outputs": [],
   "source": []
  },
  {
   "cell_type": "markdown",
   "metadata": {},
   "source": [
    "## Computing a mask from raw EPI data \n",
    "From raw EPI (functional) data, there is no uniform background and a different strategy is necessary. "
   ]
  },
  {
   "cell_type": "code",
   "execution_count": null,
   "metadata": {},
   "outputs": [],
   "source": []
  }
 ],
 "metadata": {
  "kernelspec": {
   "display_name": "Python 3",
   "language": "python",
   "name": "python3"
  },
  "language_info": {
   "codemirror_mode": {
    "name": "ipython",
    "version": 3
   },
   "file_extension": ".py",
   "mimetype": "text/x-python",
   "name": "python",
   "nbconvert_exporter": "python",
   "pygments_lexer": "ipython3",
   "version": "3.6.5"
  }
 },
 "nbformat": 4,
 "nbformat_minor": 2
}
